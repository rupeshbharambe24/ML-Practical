{
 "cells": [
  {
   "cell_type": "code",
   "execution_count": 4,
   "id": "cb6a2d2e-df80-4f8a-954b-352157cf0679",
   "metadata": {},
   "outputs": [
    {
     "name": "stdout",
     "output_type": "stream",
     "text": [
      "[[1 2 3]\n",
      " [4 5 6]\n",
      " [7 8 9]]\n",
      "[[9 8 7]\n",
      " [6 5 4]\n",
      " [3 2 1]]\n"
     ]
    }
   ],
   "source": [
    "import numpy as np\n",
    "\n",
    "# 1. Create 2-D matrices using NumPy\n",
    "matrix_A = np.array([\n",
    "    [1, 2, 3],\n",
    "    [4, 5, 6],\n",
    "    [7, 8, 9]\n",
    "])\n",
    "\n",
    "matrix_B = np.array([\n",
    "    [9, 8, 7],\n",
    "    [6, 5, 4],\n",
    "    [3, 2, 1]\n",
    "])\n",
    "\n",
    "print(matrix_A)\n",
    "print(matrix_B)"
   ]
  },
  {
   "cell_type": "code",
   "execution_count": 5,
   "id": "027e417f-fbe1-40a3-a22d-9f44d3751a72",
   "metadata": {
    "tags": []
   },
   "outputs": [
    {
     "name": "stdout",
     "output_type": "stream",
     "text": [
      "True\n"
     ]
    }
   ],
   "source": [
    "# 2. Verify the conditions for matrix addition (same dimensions)\n",
    "add_matrices = matrix_A.shape == matrix_B.shape\n",
    "print(add_matrices)"
   ]
  },
  {
   "cell_type": "code",
   "execution_count": 11,
   "id": "5c77b441-1710-4491-b1b6-584894c35d7c",
   "metadata": {
    "tags": []
   },
   "outputs": [
    {
     "name": "stdout",
     "output_type": "stream",
     "text": [
      "Matrix Addition Result:\n",
      " [[10 10 10]\n",
      " [10 10 10]\n",
      " [10 10 10]]\n"
     ]
    }
   ],
   "source": [
    "# 3. Perform matrix addition\n",
    "if add_matrices:\n",
    "    matrix_addition_result = np.add(matrix_A, matrix_B)\n",
    "else:\n",
    "    matrix_addition_result = None\n",
    "    \n",
    "if matrix_addition_result is not None:\n",
    "    print(\"Matrix Addition Result:\\n\", matrix_addition_result)\n",
    "else:\n",
    "    print(\"Matrix addition not possible due to different dimensions.\")"
   ]
  },
  {
   "cell_type": "code",
   "execution_count": 8,
   "id": "5531757e-c3f9-4d11-87ae-69d48cede67e",
   "metadata": {
    "tags": []
   },
   "outputs": [
    {
     "name": "stdout",
     "output_type": "stream",
     "text": [
      "[[1 4 7]\n",
      " [2 5 8]\n",
      " [3 6 9]]\n"
     ]
    }
   ],
   "source": [
    "# 4. Compute the transpose of one of your matrices and perform matrix multiplication with its original matrix\n",
    "matrix_A_transpose = np.transpose(matrix_A)\n",
    "matrix_multiplication = np.matmul(matrix_A, matrix_A_transpose)\n",
    "print(matrix_A_transpose)\n"
   ]
  },
  {
   "cell_type": "code",
   "execution_count": 9,
   "id": "8572ded3-328e-4031-b802-c165dedb6019",
   "metadata": {
    "tags": []
   },
   "outputs": [
    {
     "name": "stdout",
     "output_type": "stream",
     "text": [
      "[[ 14  32  50]\n",
      " [ 32  77 122]\n",
      " [ 50 122 194]]\n"
     ]
    }
   ],
   "source": [
    "print(matrix_multiplication)"
   ]
  },
  {
   "cell_type": "code",
   "execution_count": null,
   "id": "feae3dc5-f413-4394-b010-6e5fadcf23b3",
   "metadata": {},
   "outputs": [],
   "source": []
  }
 ],
 "metadata": {
  "kernelspec": {
   "display_name": "Python 3 (ipykernel)",
   "language": "python",
   "name": "python3"
  },
  "language_info": {
   "codemirror_mode": {
    "name": "ipython",
    "version": 3
   },
   "file_extension": ".py",
   "mimetype": "text/x-python",
   "name": "python",
   "nbconvert_exporter": "python",
   "pygments_lexer": "ipython3",
   "version": "3.11.4"
  }
 },
 "nbformat": 4,
 "nbformat_minor": 5
}
