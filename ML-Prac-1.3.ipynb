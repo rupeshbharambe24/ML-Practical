{
 "cells": [
  {
   "cell_type": "code",
   "execution_count": 2,
   "id": "aaac31c0-ddfd-4110-9413-d4bba1de7ad7",
   "metadata": {
    "tags": []
   },
   "outputs": [],
   "source": [
    "import pandas as pd\n",
    "import numpy as np"
   ]
  },
  {
   "cell_type": "code",
   "execution_count": 3,
   "id": "e0e4018f-7fe0-4ead-ba1a-4400aea32a2b",
   "metadata": {
    "tags": []
   },
   "outputs": [],
   "source": [
    "# Data provided\n",
    "data = {\n",
    "    'Name': ['Alice', 'Bob', 'Charlie', 'David', 'Eve', 'Frank', 'Grace', 'Hannah'],\n",
    "    'Roll No': [1, 2, 3, 4, 5, 6, 7, 8],\n",
    "    'Address': ['123 Maple St', '456 Oak St', '789 Pine St', np.nan, '202 Cedar St', '303 Elm St', np.nan, '505 Walnut St'],\n",
    "    'Age': [20, 21, np.nan, 22, 20, 21, 19, 22],\n",
    "    'Percentage': [85, np.nan, 78, 88, 95, 70, 82, np.nan],\n",
    "    'Gender': ['F', 'M', 'M', 'M', 'F', 'M', 'F', 'F']\n",
    "}"
   ]
  },
  {
   "cell_type": "code",
   "execution_count": 4,
   "id": "81523a7e-a53b-4ffd-9684-36b354bfed8a",
   "metadata": {
    "tags": []
   },
   "outputs": [],
   "source": [
    "# Creating DataFrame\n",
    "df = pd.DataFrame(data)"
   ]
  },
  {
   "cell_type": "code",
   "execution_count": 5,
   "id": "f98b3608-2d1f-42d0-a9ef-c4e38dcbaf51",
   "metadata": {
    "tags": []
   },
   "outputs": [
    {
     "name": "stdout",
     "output_type": "stream",
     "text": [
      "      Name  Roll No       Address   Age  Percentage Gender\n",
      "0    Alice        1  123 Maple St  20.0        85.0      F\n",
      "1      Bob        2    456 Oak St  21.0         NaN      M\n",
      "2  Charlie        3   789 Pine St   NaN        78.0      M\n",
      "3    David        4           NaN  22.0        88.0      M\n",
      "4      Eve        5  202 Cedar St  20.0        95.0      F\n"
     ]
    }
   ],
   "source": [
    "# 1. Display the first five rows of the DataFrame\n",
    "first_five_rows = df.head()\n",
    "print(first_five_rows)"
   ]
  },
  {
   "cell_type": "code",
   "execution_count": 6,
   "id": "472e3190-67d4-44f3-abfe-8bba96afa4ed",
   "metadata": {
    "tags": []
   },
   "outputs": [
    {
     "name": "stdout",
     "output_type": "stream",
     "text": [
      "Name           object\n",
      "Roll No         int64\n",
      "Address        object\n",
      "Age           float64\n",
      "Percentage    float64\n",
      "Gender         object\n",
      "dtype: object\n"
     ]
    }
   ],
   "source": [
    "# 2. Display the data types of each column\n",
    "data_types = df.dtypes\n",
    "print(data_types)"
   ]
  },
  {
   "cell_type": "code",
   "execution_count": 7,
   "id": "10245a66-8ffc-4963-8327-c27f20d65445",
   "metadata": {
    "tags": []
   },
   "outputs": [
    {
     "name": "stderr",
     "output_type": "stream",
     "text": [
      "C:\\Users\\rupes\\AppData\\Local\\Temp\\ipykernel_13480\\2573917723.py:3: FutureWarning: A value is trying to be set on a copy of a DataFrame or Series through chained assignment using an inplace method.\n",
      "The behavior will change in pandas 3.0. This inplace method will never work because the intermediate object on which we are setting values always behaves as a copy.\n",
      "\n",
      "For example, when doing 'df[col].method(value, inplace=True)', try using 'df.method({col: value}, inplace=True)' or df[col] = df[col].method(value) instead, to perform the operation inplace on the original object.\n",
      "\n",
      "\n",
      "  df['Age'].fillna(df['Age'].mean(), inplace=True)\n",
      "C:\\Users\\rupes\\AppData\\Local\\Temp\\ipykernel_13480\\2573917723.py:4: FutureWarning: A value is trying to be set on a copy of a DataFrame or Series through chained assignment using an inplace method.\n",
      "The behavior will change in pandas 3.0. This inplace method will never work because the intermediate object on which we are setting values always behaves as a copy.\n",
      "\n",
      "For example, when doing 'df[col].method(value, inplace=True)', try using 'df.method({col: value}, inplace=True)' or df[col] = df[col].method(value) instead, to perform the operation inplace on the original object.\n",
      "\n",
      "\n",
      "  df['Percentage'].fillna(df['Percentage'].mean(), inplace=True)\n",
      "C:\\Users\\rupes\\AppData\\Local\\Temp\\ipykernel_13480\\2573917723.py:6: FutureWarning: A value is trying to be set on a copy of a DataFrame or Series through chained assignment using an inplace method.\n",
      "The behavior will change in pandas 3.0. This inplace method will never work because the intermediate object on which we are setting values always behaves as a copy.\n",
      "\n",
      "For example, when doing 'df[col].method(value, inplace=True)', try using 'df.method({col: value}, inplace=True)' or df[col] = df[col].method(value) instead, to perform the operation inplace on the original object.\n",
      "\n",
      "\n",
      "  df['Address'].fillna('Unknown', inplace=True)\n"
     ]
    }
   ],
   "source": [
    "# 3. Handle missing values\n",
    "# Filling numerical values with the mean\n",
    "df['Age'].fillna(df['Age'].mean(), inplace=True)\n",
    "df['Percentage'].fillna(df['Percentage'].mean(), inplace=True)\n",
    "# Filling missing address values with “Unknown”\n",
    "df['Address'].fillna('Unknown', inplace=True)"
   ]
  },
  {
   "cell_type": "code",
   "execution_count": 8,
   "id": "88aadc85-1c8e-4312-ac9f-bb5a8875965d",
   "metadata": {
    "tags": []
   },
   "outputs": [
    {
     "name": "stdout",
     "output_type": "stream",
     "text": [
      "20.714285714285715\n",
      "83.0\n"
     ]
    }
   ],
   "source": [
    "# 4. Calculate the mean age and mean percentage of the students\n",
    "mean_age = df['Age'].mean()\n",
    "mean_percentage = df['Percentage'].mean()\n",
    "print(mean_age)\n",
    "print(mean_percentage)"
   ]
  },
  {
   "cell_type": "code",
   "execution_count": 9,
   "id": "9abd3aea-d9c0-433b-83f2-9e0e001813f0",
   "metadata": {
    "tags": []
   },
   "outputs": [],
   "source": [
    "# 5. Add a column 'Pass' which is True if the student’s percentage is 75 or above, otherwise False\n",
    "df['Pass'] = df['Percentage'] >= 75"
   ]
  },
  {
   "cell_type": "code",
   "execution_count": 10,
   "id": "5591e73e-7dc5-4b8b-86d2-6dd21009eb83",
   "metadata": {
    "tags": []
   },
   "outputs": [
    {
     "name": "stdout",
     "output_type": "stream",
     "text": [
      "      Name  Roll No        Address        Age  Percentage Gender  Pass\n",
      "0    Alice        1   123 Maple St  20.000000        85.0      F  True\n",
      "1      Bob        2     456 Oak St  21.000000        83.0      M  True\n",
      "2  Charlie        3    789 Pine St  20.714286        78.0      M  True\n",
      "3    David        4        Unknown  22.000000        88.0      M  True\n",
      "4      Eve        5   202 Cedar St  20.000000        95.0      F  True\n",
      "6    Grace        7        Unknown  19.000000        82.0      F  True\n",
      "7   Hannah        8  505 Walnut St  22.000000        83.0      F  True\n"
     ]
    }
   ],
   "source": [
    "# 6. Filter the DataFrame to show only the students who have passed\n",
    "passed_students = df[df['Pass']]\n",
    "print(passed_students)"
   ]
  },
  {
   "cell_type": "code",
   "execution_count": 11,
   "id": "404f4e15-b274-41e0-89bb-545ccda5b2aa",
   "metadata": {},
   "outputs": [],
   "source": [
    "# 7. Group the DataFrame by Gender and calculate the average percentage for each group\n",
    "average_percentage_by_gender = df.groupby('Gender')['Percentage'].mean()\n"
   ]
  },
  {
   "cell_type": "code",
   "execution_count": 12,
   "id": "0543c12f-42ef-47cc-946a-ec684cba5bc1",
   "metadata": {},
   "outputs": [],
   "source": [
    "# 8. Sort the DataFrame by Percentage in descending order\n",
    "sorted_df = df.sort_values(by='Percentage', ascending=False)"
   ]
  },
  {
   "cell_type": "code",
   "execution_count": 13,
   "id": "e87a61fd-54e1-4a70-b3ba-4f80b8f3a74c",
   "metadata": {},
   "outputs": [],
   "source": [
    "# 9. Create a new column ‘Age Group’ with values ‘Under 21’ and ‘21 and above’\n",
    "df['Age Group'] = df['Age'].apply(lambda x: 'Under 21' if x < 21 else '21 and above')"
   ]
  },
  {
   "cell_type": "code",
   "execution_count": 14,
   "id": "20b868d5-1d5b-4df1-a8c9-2966ea086d43",
   "metadata": {},
   "outputs": [],
   "source": [
    "# 10. Drop the column 'Pass'\n",
    "df_without_pass = df.drop(columns=['Pass'])"
   ]
  },
  {
   "cell_type": "code",
   "execution_count": null,
   "id": "a0ba7457",
   "metadata": {},
   "outputs": [],
   "source": []
  }
 ],
 "metadata": {
  "kernelspec": {
   "display_name": "Python 3",
   "language": "python",
   "name": "python3"
  },
  "language_info": {
   "codemirror_mode": {
    "name": "ipython",
    "version": 3
   },
   "file_extension": ".py",
   "mimetype": "text/x-python",
   "name": "python",
   "nbconvert_exporter": "python",
   "pygments_lexer": "ipython3",
   "version": "3.11.3"
  }
 },
 "nbformat": 4,
 "nbformat_minor": 5
}
