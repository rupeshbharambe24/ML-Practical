{
 "cells": [
  {
   "cell_type": "code",
   "execution_count": 2,
   "id": "e04c2b21-9a72-4e25-b5fb-58828de11816",
   "metadata": {
    "tags": []
   },
   "outputs": [],
   "source": [
    "import numpy as np\n",
    "\n",
    "# Sales data\n",
    "sales_data = np.array([\n",
    "    [1200, 1500, 1300, 1100], # Product 1 sales\n",
    "    [800, 950, 1000, 1200], # Product 2 sales\n",
    "    [1400, 1600, 1700, 1800], # Product 3 sales\n",
    "    [900, 800, 850, 950] # Product 4 sales\n",
    "])"
   ]
  },
  {
   "cell_type": "code",
   "execution_count": 3,
   "id": "39498a94-53e3-4072-b0c0-29252911458f",
   "metadata": {
    "tags": []
   },
   "outputs": [
    {
     "name": "stdout",
     "output_type": "stream",
     "text": [
      "[1275.   987.5 1625.   875. ]\n"
     ]
    }
   ],
   "source": [
    "# 1. Calculate the average sales for each product\n",
    "average_sales_per_product = np.mean(sales_data, axis=1)\n",
    "print(average_sales_per_product)"
   ]
  },
  {
   "cell_type": "code",
   "execution_count": 4,
   "id": "e9cb25f4-2a12-4e1f-a552-9360f21a6cc1",
   "metadata": {
    "tags": []
   },
   "outputs": [
    {
     "name": "stdout",
     "output_type": "stream",
     "text": [
      "[1500 1200 1800  950]\n",
      "[1100  800 1400  800]\n"
     ]
    }
   ],
   "source": [
    "# 2. Determine the highest and lowest sales figures for each product\n",
    "highest_sales_per_product = np.max(sales_data, axis=1)\n",
    "lowest_sales_per_product = np.min(sales_data, axis=1)\n",
    "print(highest_sales_per_product)\n",
    "print(lowest_sales_per_product)"
   ]
  },
  {
   "cell_type": "code",
   "execution_count": 5,
   "id": "e72f9e6b-9b9a-4b27-95a1-9e96f6f88e8c",
   "metadata": {
    "tags": []
   },
   "outputs": [
    {
     "name": "stdout",
     "output_type": "stream",
     "text": [
      "1190.625\n"
     ]
    }
   ],
   "source": [
    "# 3. Compute the overall average sales across all products\n",
    "overall_average_sales = np.mean(sales_data)\n",
    "print(overall_average_sales)"
   ]
  },
  {
   "cell_type": "code",
   "execution_count": 6,
   "id": "72ff1e1e-456a-4323-8646-e18222f10498",
   "metadata": {
    "tags": []
   },
   "outputs": [
    {
     "name": "stdout",
     "output_type": "stream",
     "text": [
      "9\n",
      "7\n"
     ]
    }
   ],
   "source": [
    "# 4. Determine sales figures above and below the threshold of 1000\n",
    "sales_above_threshold = np.sum(sales_data > 1000)\n",
    "sales_below_threshold = np.sum(sales_data <= 1000)\n",
    "print(sales_above_threshold)\n",
    "print(sales_below_threshold)"
   ]
  }
 ],
 "metadata": {
  "kernelspec": {
   "display_name": "Python 3 (ipykernel)",
   "language": "python",
   "name": "python3"
  },
  "language_info": {
   "codemirror_mode": {
    "name": "ipython",
    "version": 3
   },
   "file_extension": ".py",
   "mimetype": "text/x-python",
   "name": "python",
   "nbconvert_exporter": "python",
   "pygments_lexer": "ipython3",
   "version": "3.11.4"
  }
 },
 "nbformat": 4,
 "nbformat_minor": 5
}
